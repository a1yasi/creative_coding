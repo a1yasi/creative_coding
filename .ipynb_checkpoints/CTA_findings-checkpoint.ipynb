{
 "cells": [
  {
   "cell_type": "code",
   "execution_count": 2,
   "id": "9ef8e8b0-2830-4d0b-9942-6318c9ddc3ec",
   "metadata": {},
   "outputs": [],
   "source": [
    "# git\n",
    "import pandas as pd\n",
    "import matplotlib.pyplot as plt\n",
    "%matplotlib inline"
   ]
  },
  {
   "cell_type": "code",
   "execution_count": 3,
   "id": "7ff60ad0-a0de-492d-a8d9-2812774cd346",
   "metadata": {},
   "outputs": [],
   "source": [
    "path = 'CTA_Data.csv'\n",
    "findings = pd.read_csv(path)"
   ]
  },
  {
   "cell_type": "code",
   "execution_count": 4,
   "id": "3f952dfa-4c81-4a1d-a23b-ddcdfc81e4d9",
   "metadata": {},
   "outputs": [
    {
     "data": {
      "text/html": [
       "<div>\n",
       "<style scoped>\n",
       "    .dataframe tbody tr th:only-of-type {\n",
       "        vertical-align: middle;\n",
       "    }\n",
       "\n",
       "    .dataframe tbody tr th {\n",
       "        vertical-align: top;\n",
       "    }\n",
       "\n",
       "    .dataframe thead th {\n",
       "        text-align: right;\n",
       "    }\n",
       "</style>\n",
       "<table border=\"1\" class=\"dataframe\">\n",
       "  <thead>\n",
       "    <tr style=\"text-align: right;\">\n",
       "      <th></th>\n",
       "      <th>Timestamp</th>\n",
       "      <th>initials</th>\n",
       "      <th>favourite_country</th>\n",
       "      <th>favourite_season</th>\n",
       "      <th>bucket_list</th>\n",
       "      <th>CTA</th>\n",
       "      <th>weekends</th>\n",
       "    </tr>\n",
       "  </thead>\n",
       "  <tbody>\n",
       "    <tr>\n",
       "      <th>0</th>\n",
       "      <td>2024/10/17 12:37:11 pm CET</td>\n",
       "      <td>S.M.N</td>\n",
       "      <td>Japan</td>\n",
       "      <td>Autumn</td>\n",
       "      <td>I want to walk the whole length of a country</td>\n",
       "      <td>Game engine</td>\n",
       "      <td>Engaging in a hobby</td>\n",
       "    </tr>\n",
       "    <tr>\n",
       "      <th>1</th>\n",
       "      <td>2024/10/17 12:38:07 pm CET</td>\n",
       "      <td>C.D</td>\n",
       "      <td>Mongolia</td>\n",
       "      <td>Spring</td>\n",
       "      <td>Visit Peru</td>\n",
       "      <td>Future machine</td>\n",
       "      <td>Exploring the outdoors</td>\n",
       "    </tr>\n",
       "    <tr>\n",
       "      <th>2</th>\n",
       "      <td>2024/10/17 12:38:10 pm CET</td>\n",
       "      <td>B.H</td>\n",
       "      <td>Vietnam</td>\n",
       "      <td>Summer</td>\n",
       "      <td>Try all of the amazing foods in the world!</td>\n",
       "      <td>Coding</td>\n",
       "      <td>Hanging out with friends</td>\n",
       "    </tr>\n",
       "    <tr>\n",
       "      <th>3</th>\n",
       "      <td>2024/10/17 12:38:13 pm CET</td>\n",
       "      <td>H.C</td>\n",
       "      <td>Morocco</td>\n",
       "      <td>Winter</td>\n",
       "      <td>Join a Music Festival</td>\n",
       "      <td>Coding</td>\n",
       "      <td>Hanging out with friends</td>\n",
       "    </tr>\n",
       "    <tr>\n",
       "      <th>4</th>\n",
       "      <td>2024/10/17 12:43:36 pm CET</td>\n",
       "      <td>B.S</td>\n",
       "      <td>Italy</td>\n",
       "      <td>Winter</td>\n",
       "      <td>See all my favourite bands</td>\n",
       "      <td>Future machine</td>\n",
       "      <td>Relaxing at home</td>\n",
       "    </tr>\n",
       "    <tr>\n",
       "      <th>5</th>\n",
       "      <td>2024/10/17 12:50:22 pm CET</td>\n",
       "      <td>O.E</td>\n",
       "      <td>Meixco</td>\n",
       "      <td>Summer</td>\n",
       "      <td>be a billionaire</td>\n",
       "      <td>Future machine</td>\n",
       "      <td>Hanging out with friends</td>\n",
       "    </tr>\n",
       "    <tr>\n",
       "      <th>6</th>\n",
       "      <td>2024/10/17 12:52:14 pm CET</td>\n",
       "      <td>B.A.O</td>\n",
       "      <td>Portugal</td>\n",
       "      <td>Spring</td>\n",
       "      <td>Go to an all-inclusive resort</td>\n",
       "      <td>Future machine</td>\n",
       "      <td>Exploring the outdoors</td>\n",
       "    </tr>\n",
       "    <tr>\n",
       "      <th>7</th>\n",
       "      <td>2024/10/17 12:56:54 pm CET</td>\n",
       "      <td>Z.Z</td>\n",
       "      <td>Spain</td>\n",
       "      <td>Autumn</td>\n",
       "      <td>my own dog</td>\n",
       "      <td>Coding</td>\n",
       "      <td>Relaxing at home</td>\n",
       "    </tr>\n",
       "    <tr>\n",
       "      <th>8</th>\n",
       "      <td>2024/10/17 1:02:59 pm CET</td>\n",
       "      <td>Y.C</td>\n",
       "      <td>Spain</td>\n",
       "      <td>Autumn</td>\n",
       "      <td>Go to Norway</td>\n",
       "      <td>Generative AI</td>\n",
       "      <td>Hanging out with friends</td>\n",
       "    </tr>\n",
       "    <tr>\n",
       "      <th>9</th>\n",
       "      <td>2024/10/17 1:07:23 pm CET</td>\n",
       "      <td>J.Z</td>\n",
       "      <td>Italy</td>\n",
       "      <td>Autumn</td>\n",
       "      <td>parachuting</td>\n",
       "      <td>Generative AI</td>\n",
       "      <td>Relaxing at home</td>\n",
       "    </tr>\n",
       "    <tr>\n",
       "      <th>10</th>\n",
       "      <td>2024/10/17 1:15:26 pm CET</td>\n",
       "      <td>Q.W</td>\n",
       "      <td>Spain</td>\n",
       "      <td>Spring</td>\n",
       "      <td>I don't know</td>\n",
       "      <td>Coding</td>\n",
       "      <td>Relaxing at home</td>\n",
       "    </tr>\n",
       "    <tr>\n",
       "      <th>11</th>\n",
       "      <td>2024/10/17 1:23:26 pm CET</td>\n",
       "      <td>A.A</td>\n",
       "      <td>Switzerland</td>\n",
       "      <td>Winter</td>\n",
       "      <td>skydiving</td>\n",
       "      <td>Coding</td>\n",
       "      <td>Relaxing at home</td>\n",
       "    </tr>\n",
       "    <tr>\n",
       "      <th>12</th>\n",
       "      <td>2024/10/17 1:29:24 pm CET</td>\n",
       "      <td>F.L</td>\n",
       "      <td>Scotland</td>\n",
       "      <td>Summer</td>\n",
       "      <td>Sleep in a portaledge on a big climbing route</td>\n",
       "      <td>Coding</td>\n",
       "      <td>Engaging in a hobby</td>\n",
       "    </tr>\n",
       "    <tr>\n",
       "      <th>13</th>\n",
       "      <td>2024/10/17 1:50:55 pm CET</td>\n",
       "      <td>Z.T</td>\n",
       "      <td>Jordan</td>\n",
       "      <td>Autumn</td>\n",
       "      <td>Go Skydiving!</td>\n",
       "      <td>Coding</td>\n",
       "      <td>Hanging out with friends</td>\n",
       "    </tr>\n",
       "    <tr>\n",
       "      <th>14</th>\n",
       "      <td>2024/10/17 1:56:16 pm CET</td>\n",
       "      <td>A.P</td>\n",
       "      <td>Austria</td>\n",
       "      <td>Spring</td>\n",
       "      <td>Sky dive</td>\n",
       "      <td>Game engine</td>\n",
       "      <td>Relaxing at home</td>\n",
       "    </tr>\n",
       "    <tr>\n",
       "      <th>15</th>\n",
       "      <td>2024/10/17 2:02:07 pm CET</td>\n",
       "      <td>G.L</td>\n",
       "      <td>Belgium</td>\n",
       "      <td>Spring</td>\n",
       "      <td>Travel</td>\n",
       "      <td>Generative AI</td>\n",
       "      <td>Relaxing at home</td>\n",
       "    </tr>\n",
       "    <tr>\n",
       "      <th>16</th>\n",
       "      <td>2024/10/17 2:02:21 pm CET</td>\n",
       "      <td>T.S</td>\n",
       "      <td>Sweden</td>\n",
       "      <td>Winter</td>\n",
       "      <td>Jumping out of a plane</td>\n",
       "      <td>Future machine</td>\n",
       "      <td>Relaxing at home</td>\n",
       "    </tr>\n",
       "    <tr>\n",
       "      <th>17</th>\n",
       "      <td>2024/10/20 1:58:27 pm CET</td>\n",
       "      <td>M.O</td>\n",
       "      <td>Cayman Islands</td>\n",
       "      <td>Winter</td>\n",
       "      <td>Visit all the countries in the Caribbean</td>\n",
       "      <td>Future machine</td>\n",
       "      <td>Relaxing at home</td>\n",
       "    </tr>\n",
       "  </tbody>\n",
       "</table>\n",
       "</div>"
      ],
      "text/plain": [
       "                     Timestamp initials favourite_country favourite_season  \\\n",
       "0   2024/10/17 12:37:11 pm CET    S.M.N             Japan           Autumn   \n",
       "1   2024/10/17 12:38:07 pm CET      C.D         Mongolia            Spring   \n",
       "2   2024/10/17 12:38:10 pm CET      B.H           Vietnam           Summer   \n",
       "3   2024/10/17 12:38:13 pm CET      H.C           Morocco           Winter   \n",
       "4   2024/10/17 12:43:36 pm CET      B.S             Italy           Winter   \n",
       "5   2024/10/17 12:50:22 pm CET      O.E            Meixco           Summer   \n",
       "6   2024/10/17 12:52:14 pm CET    B.A.O          Portugal           Spring   \n",
       "7   2024/10/17 12:56:54 pm CET      Z.Z             Spain           Autumn   \n",
       "8    2024/10/17 1:02:59 pm CET      Y.C             Spain           Autumn   \n",
       "9    2024/10/17 1:07:23 pm CET      J.Z             Italy           Autumn   \n",
       "10   2024/10/17 1:15:26 pm CET      Q.W             Spain           Spring   \n",
       "11   2024/10/17 1:23:26 pm CET      A.A      Switzerland            Winter   \n",
       "12   2024/10/17 1:29:24 pm CET      F.L          Scotland           Summer   \n",
       "13   2024/10/17 1:50:55 pm CET      Z.T            Jordan           Autumn   \n",
       "14   2024/10/17 1:56:16 pm CET      A.P           Austria           Spring   \n",
       "15   2024/10/17 2:02:07 pm CET      G.L           Belgium           Spring   \n",
       "16   2024/10/17 2:02:21 pm CET      T.S            Sweden           Winter   \n",
       "17   2024/10/20 1:58:27 pm CET      M.O    Cayman Islands           Winter   \n",
       "\n",
       "                                      bucket_list             CTA  \\\n",
       "0    I want to walk the whole length of a country     Game engine   \n",
       "1                                      Visit Peru  Future machine   \n",
       "2      Try all of the amazing foods in the world!          Coding   \n",
       "3                           Join a Music Festival          Coding   \n",
       "4                      See all my favourite bands  Future machine   \n",
       "5                                be a billionaire  Future machine   \n",
       "6                   Go to an all-inclusive resort  Future machine   \n",
       "7                                      my own dog          Coding   \n",
       "8                                    Go to Norway   Generative AI   \n",
       "9                                     parachuting   Generative AI   \n",
       "10                                   I don't know          Coding   \n",
       "11                                     skydiving           Coding   \n",
       "12  Sleep in a portaledge on a big climbing route          Coding   \n",
       "13                                  Go Skydiving!          Coding   \n",
       "14                                       Sky dive     Game engine   \n",
       "15                                         Travel   Generative AI   \n",
       "16                         Jumping out of a plane  Future machine   \n",
       "17       Visit all the countries in the Caribbean  Future machine   \n",
       "\n",
       "                    weekends  \n",
       "0        Engaging in a hobby  \n",
       "1     Exploring the outdoors  \n",
       "2   Hanging out with friends  \n",
       "3   Hanging out with friends  \n",
       "4           Relaxing at home  \n",
       "5   Hanging out with friends  \n",
       "6     Exploring the outdoors  \n",
       "7           Relaxing at home  \n",
       "8   Hanging out with friends  \n",
       "9           Relaxing at home  \n",
       "10          Relaxing at home  \n",
       "11          Relaxing at home  \n",
       "12       Engaging in a hobby  \n",
       "13  Hanging out with friends  \n",
       "14          Relaxing at home  \n",
       "15          Relaxing at home  \n",
       "16          Relaxing at home  \n",
       "17          Relaxing at home  "
      ]
     },
     "execution_count": 4,
     "metadata": {},
     "output_type": "execute_result"
    }
   ],
   "source": [
    "findings[0:18]"
   ]
  },
  {
   "cell_type": "code",
   "execution_count": 5,
   "id": "1aa872d8-296d-4378-90ef-7a740b52ced7",
   "metadata": {},
   "outputs": [
    {
     "data": {
      "text/plain": [
       "0     S.M.N\n",
       "1       C.D\n",
       "2       B.H\n",
       "3       H.C\n",
       "4       B.S\n",
       "5       O.E\n",
       "6     B.A.O\n",
       "7       Z.Z\n",
       "8       Y.C\n",
       "9       J.Z\n",
       "10      Q.W\n",
       "11      A.A\n",
       "12      F.L\n",
       "13      Z.T\n",
       "14      A.P\n",
       "15      G.L\n",
       "16      T.S\n",
       "17      M.O\n",
       "Name: initials, dtype: object"
      ]
     },
     "execution_count": 5,
     "metadata": {},
     "output_type": "execute_result"
    }
   ],
   "source": [
    "# All the initals \n",
    "findings.initials.str.upper()"
   ]
  },
  {
   "cell_type": "code",
   "execution_count": 6,
   "id": "e9e7a4d0-10f2-4e37-951d-28a314e78ab1",
   "metadata": {},
   "outputs": [
    {
     "data": {
      "text/plain": [
       "0        Game engine\n",
       "1     Future machine\n",
       "2             Coding\n",
       "3             Coding\n",
       "4     Future machine\n",
       "5     Future machine\n",
       "6     Future machine\n",
       "7             Coding\n",
       "8      Generative AI\n",
       "9      Generative AI\n",
       "10            Coding\n",
       "11            Coding\n",
       "12            Coding\n",
       "13            Coding\n",
       "14       Game engine\n",
       "15     Generative AI\n",
       "16    Future machine\n",
       "17    Future machine\n",
       "Name: CTA, dtype: object"
      ]
     },
     "execution_count": 6,
     "metadata": {},
     "output_type": "execute_result"
    }
   ],
   "source": [
    "findings['CTA']"
   ]
  },
  {
   "cell_type": "code",
   "execution_count": 31,
   "id": "f85568c1-411f-4af3-9d0c-280b6f36afbd",
   "metadata": {},
   "outputs": [
    {
     "data": {
      "image/png": "[encoded data removed]",
      "text/plain": [
       "<Figure size 640x480 with 1 Axes>"
      ]
     },
     "metadata": {},
     "output_type": "display_data"
    }
   ],
   "source": [
    "portion = findings['CTA'].value_counts()\n",
    "labels = portion.index\n",
    "plt.pie (portion, labels = labels,\n",
    "textprops={'fontsize':10},\n",
    "colors=['bisque', 'tan','cornsilk' ,'orange']\n",
    "        )\n",
    "plt.show()\n",
    "\n",
    "# !CTA FINDINGS!\n",
    "# Most people want to learn coding, while the least interest is in game engine"
   ]
  },
  {
   "cell_type": "code",
   "execution_count": 9,
   "id": "dfeda03a-6d1a-469d-8c6b-0944fbbb334d",
   "metadata": {},
   "outputs": [
    {
     "data": {
      "text/plain": [
       "Text(0, 0.5, 'Frequency')"
      ]
     },
     "execution_count": 9,
     "metadata": {},
     "output_type": "execute_result"
    },
    {
     "data": {
      "image/png": "[encoded data removed]",
      "text/plain": [
       "<Figure size 1200x500 with 1 Axes>"
      ]
     },
     "metadata": {},
     "output_type": "display_data"
    }
   ],
   "source": [
    "type_groupings = findings.groupby('weekends')\n",
    "\n",
    "df_relax = type_groupings.get_group('Relaxing at home')\n",
    "df_hanging_out = type_groupings.get_group('Hanging out with friends')\n",
    "df_hobby = type_groupings.get_group('Engaging in a hobby')\n",
    "df_exploring = type_groupings.get_group('Exploring the outdoors')\n",
    "\n",
    "plt.figure(figsize=(12,5))\n",
    "# Adjust figure size\n",
    "\n",
    "plt.hist(df_relax.weekends, label= 'Relaxing at home')\n",
    "plt.hist(df_hanging_out.weekends, label= 'Hanging out with friends')\n",
    "plt.hist(df_hobby.weekends, label= 'Engaging in a hobby')\n",
    "plt.hist(df_exploring.weekends, label = 'Exploring the outdoors')\n",
    "\n",
    "plt.legend()\n",
    "plt.title('How do you prefer to spend your weekends?')\n",
    "plt.xlabel('Activities')\n",
    "plt.ylabel('Frequency')\n",
    "\n",
    "# !CTA FINDINGS!\n",
    "# most people like to relax at home during weekend"
   ]
  },
  {
   "cell_type": "code",
   "execution_count": 36,
   "id": "1c2001b2-5f22-4add-a1d3-c3f1816b1b62",
   "metadata": {},
   "outputs": [
    {
     "name": "stdout",
     "output_type": "stream",
     "text": [
      "weekends        Engaging in a hobby  Exploring the outdoors  \\\n",
      "CTA                                                           \n",
      "Coding                            1                       0   \n",
      "Future machine                    0                       2   \n",
      "Game engine                       1                       0   \n",
      "Generative AI                     0                       0   \n",
      "\n",
      "weekends        Hanging out with friends  Relaxing at home  \n",
      "CTA                                                         \n",
      "Coding                                 3                 3  \n",
      "Future machine                         1                 3  \n",
      "Game engine                            0                 1  \n",
      "Generative AI                          1                 2  \n"
     ]
    }
   ],
   "source": [
    "# crosstab creates frequency table\n",
    "correlation = pd.crosstab(findings['CTA'], findings['weekends'])\n",
    "                        \n",
    "print(correlation)\n",
    "\n",
    "\n",
    "# !CTA FINDINGS!\n",
    "# this finds the correlation between a person's preferred CTA subject and their weekend activities."
   ]
  },
  {
   "cell_type": "code",
   "execution_count": 13,
   "id": "52ee9a45-2961-484a-a8f7-4a4fe8aa87da",
   "metadata": {},
   "outputs": [
    {
     "data": {
      "text/plain": [
       "favourite_country\n",
       "Spain             3\n",
       "Italy             2\n",
       "Mongolia          1\n",
       "Vietnam           1\n",
       "Morocco           1\n",
       "Meixco            1\n",
       "Japan             1\n",
       "Portugal          1\n",
       "Switzerland       1\n",
       "Scotland          1\n",
       "Jordan            1\n",
       "Austria           1\n",
       "Belgium           1\n",
       "Sweden            1\n",
       "Cayman Islands    1\n",
       "Name: count, dtype: int64"
      ]
     },
     "execution_count": 13,
     "metadata": {},
     "output_type": "execute_result"
    }
   ],
   "source": [
    "findings.favourite_country.value_counts()\n",
    "\n",
    "# !CTA FINDINGS!\n",
    "# Spain is the most popular choice, with 3 votes.\n",
    "# Italy comes next with 2 votes"
   ]
  },
  {
   "cell_type": "code",
   "execution_count": 15,
   "id": "831dfb5a-4ceb-4e5a-9925-50285510f604",
   "metadata": {},
   "outputs": [
    {
     "data": {
      "image/png": "[encoded data removed]",
      "text/plain": [
       "<Figure size 640x480 with 1 Axes>"
      ]
     },
     "metadata": {},
     "output_type": "display_data"
    }
   ],
   "source": [
    "# plt.hist(findings.favourite_season)\n",
    "# plt.xlabel('Seasons')\n",
    "# plt.ylabel('Number of people')\n",
    "# plt.title('Favourite seasons')\n",
    "\n",
    "slices = findings['favourite_season'].value_counts()\n",
    "labels = slices.index\n",
    "plt.pie (slices, labels = labels,\n",
    "textprops={'fontsize':14},\n",
    "colors=['orange', 'lavender','cornflowerblue' ,'gold']\n",
    "        )\n",
    "plt.show()\n",
    "\n",
    "\n",
    "# !CTA FINDINGS!\n",
    "# Most people’s favorite seasons are autumn, spring, and winter. It is surprising to see that only a few people choose summer."
   ]
  },
  {
   "cell_type": "code",
   "execution_count": 17,
   "id": "ada8af72-edfd-42fb-9c5f-a4bdf1a79722",
   "metadata": {},
   "outputs": [
    {
     "data": {
      "text/plain": [
       "array(['I want to walk the whole length of a country', 'Visit Peru',\n",
       "       'Try all of the amazing foods in the world!',\n",
       "       'Join a Music Festival', 'See all my favourite bands',\n",
       "       'be a billionaire', 'Go to an all-inclusive resort', 'my own dog',\n",
       "       'Go to Norway', 'parachuting', \"I don't know\", 'skydiving ',\n",
       "       'Sleep in a portaledge on a big climbing route', 'Go Skydiving!',\n",
       "       'Sky dive', 'Travel', 'Jumping out of a plane',\n",
       "       'Visit all the countries in the Caribbean'], dtype=object)"
      ]
     },
     "execution_count": 17,
     "metadata": {},
     "output_type": "execute_result"
    }
   ],
   "source": [
    "findings.bucket_list.unique()\n",
    "\n",
    "\n",
    "# !CTA FINDINGS!\n",
    "# These are all the bucket lists from CTA."
   ]
  }
 ],
 "metadata": {
  "kernelspec": {
   "display_name": "Python 3 (ipykernel)",
   "language": "python",
   "name": "python3"
  },
  "language_info": {
   "codemirror_mode": {
    "name": "ipython",
    "version": 3
   },
   "file_extension": ".py",
   "mimetype": "text/x-python",
   "name": "python",
   "nbconvert_exporter": "python",
   "pygments_lexer": "ipython3",
   "version": "3.12.7"
  }
 },
 "nbformat": 4,
 "nbformat_minor": 5
}
